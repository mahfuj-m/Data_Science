{
 "cells": [
  {
   "cell_type": "code",
   "execution_count": 2,
   "metadata": {},
   "outputs": [],
   "source": [
    "import tensorflow as tf\n",
    "import cv2\n",
    "import pandas as pd\n",
    "import seaborn as sns\n",
    "import matplotlib.pyplot as plt\n",
    "import numpy as np\n",
    "import PIL"
   ]
  },
  {
   "cell_type": "code",
   "execution_count": 5,
   "metadata": {},
   "outputs": [],
   "source": [
    "from tensorflow.keras import layers\n",
    "import pickle\n",
    "from tensorflow.python.keras import *\n",
    "from tensorflow.keras.preprocessing.image import ImageDataGenerator\n",
    "from tensorflow.keras import layers, optimizers\n",
    "from tensorflow.keras.applications import DenseNet121\n",
    "from tensorflow.keras.applications.resnet50 import ResNet50\n",
    "from tensorflow.keras.layers import *\n",
    "from tensorflow.keras.models import Model,load_model\n",
    "from tensorflow.keras.initializers import glorot_uniform\n",
    "from tensorflow.keras.utils import plot_model\n",
    "from tensorflow.keras.callbacks import ReduceLROnPlateau, EarlyStopping, ModelCheckpoint, LearningRateScheduler"
   ]
  },
  {
   "cell_type": "code",
   "execution_count": 11,
   "metadata": {},
   "outputs": [],
   "source": [
    "(x_train,y_train),(x_test,y_test)=tf.keras.datasets.cifar10.load_data()\n"
   ]
  },
  {
   "cell_type": "code",
   "execution_count": 14,
   "metadata": {},
   "outputs": [],
   "source": [
    "from sklearn.model_selection import train_test_split"
   ]
  },
  {
   "cell_type": "code",
   "execution_count": 16,
   "metadata": {},
   "outputs": [],
   "source": [
    "x_train,x_val,y_train,y_val=train_test_split(x_train,y_train,test_size=.1,shuffle=True)"
   ]
  },
  {
   "cell_type": "code",
   "execution_count": 106,
   "metadata": {},
   "outputs": [],
   "source": [
    "x_train=x_train/255\n",
    "x_val=x_val/255\n",
    "x_test=x_test/255"
   ]
  },
  {
   "cell_type": "code",
   "execution_count": 107,
   "metadata": {},
   "outputs": [
    {
     "name": "stdout",
     "output_type": "stream",
     "text": [
      "(40500, 32, 32, 3) (4500, 32, 32, 3) (10000, 32, 32, 3) (40500, 1) (10000, 1)\n"
     ]
    }
   ],
   "source": [
    "print(x_train.shape,x_val.shape,x_test.shape,y_train.shape,y_test.shape)"
   ]
  },
  {
   "cell_type": "markdown",
   "metadata": {},
   "source": [
    "### Building and Training Residual Model"
   ]
  },
  {
   "cell_type": "code",
   "execution_count": 108,
   "metadata": {},
   "outputs": [],
   "source": [
    "def resblock(X,filter,stage):\n",
    "    #convolutional Block\n",
    "    X_copy=X\n",
    "    f1,f2,f3=filter\n",
    "    # Main Path\n",
    "    X = Conv2D(f1, (1,1),strides = (1,1), name ='res_'+str(stage)+'_conv_a', kernel_initializer= glorot_uniform(seed = 0))(X)\n",
    "    X = MaxPool2D((2,2))(X)\n",
    "    X = BatchNormalization(axis =3, name = 'bn_'+str(stage)+'_conv_a')(X)\n",
    "    X = Activation('relu')(X) \n",
    "\n",
    "    X = Conv2D(f2, kernel_size = (3,3), strides =(1,1), padding = 'same', name ='res_'+str(stage)+'_conv_b', kernel_initializer= glorot_uniform(seed = 0))(X)\n",
    "    X = BatchNormalization(axis =3, name = 'bn_'+str(stage)+'_conv_b')(X)\n",
    "    X = Activation('relu')(X) \n",
    "\n",
    "    X = Conv2D(f3, kernel_size = (1,1), strides =(1,1),name ='res_'+str(stage)+'_conv_c', kernel_initializer= glorot_uniform(seed = 0))(X)\n",
    "    X = BatchNormalization(axis =3, name = 'bn_'+str(stage)+'_conv_c')(X)\n",
    "\n",
    "\n",
    "    # Short path\n",
    "    X_copy = Conv2D(f3, kernel_size = (1,1), strides =(1,1),name ='res_'+str(stage)+'_conv_copy', kernel_initializer= glorot_uniform(seed = 0))(X_copy)\n",
    "    X_copy = MaxPool2D((2,2))(X_copy)\n",
    "    X_copy = BatchNormalization(axis =3, name = 'bn_'+str(stage)+'_conv_copy')(X_copy)\n",
    "\n",
    "    # ADD\n",
    "    X = Add()([X,X_copy])\n",
    "    X = Activation('relu')(X)\n",
    "\n",
    "    # Identity Block 1\n",
    "    X_copy = X\n",
    "\n",
    "\n",
    "    # Main Path\n",
    "    X = Conv2D(f1, (1,1),strides = (1,1), name ='res_'+str(stage)+'_identity_1_a', kernel_initializer= glorot_uniform(seed = 0))(X)\n",
    "    X = BatchNormalization(axis =3, name = 'bn_'+str(stage)+'_identity_1_a')(X)\n",
    "    X = Activation('relu')(X) \n",
    "\n",
    "    X = Conv2D(f2, kernel_size = (3,3), strides =(1,1), padding = 'same', name ='res_'+str(stage)+'_identity_1_b', kernel_initializer= glorot_uniform(seed = 0))(X)\n",
    "    X = BatchNormalization(axis =3, name = 'bn_'+str(stage)+'_identity_1_b')(X)\n",
    "    X = Activation('relu')(X) \n",
    "\n",
    "    X = Conv2D(f3, kernel_size = (1,1), strides =(1,1),name ='res_'+str(stage)+'_identity_1_c', kernel_initializer= glorot_uniform(seed = 0))(X)\n",
    "    X = BatchNormalization(axis =3, name = 'bn_'+str(stage)+'_identity_1_c')(X)\n",
    "\n",
    "    # ADD\n",
    "    X = Add()([X,X_copy])\n",
    "    X = Activation('relu')(X)\n",
    "\n",
    "    # Identity Block 2\n",
    "    X_copy = X\n",
    "\n",
    "\n",
    "    # Main Path\n",
    "    X = Conv2D(f1, (1,1),strides = (1,1), name ='res_'+str(stage)+'_identity_2_a', kernel_initializer= glorot_uniform(seed = 0))(X)\n",
    "    X = BatchNormalization(axis =3, name = 'bn_'+str(stage)+'_identity_2_a')(X)\n",
    "    X = Activation('relu')(X) \n",
    "\n",
    "    X = Conv2D(f2, kernel_size = (3,3), strides =(1,1), padding = 'same', name ='res_'+str(stage)+'_identity_2_b', kernel_initializer= glorot_uniform(seed = 0))(X)\n",
    "    X = BatchNormalization(axis =3, name = 'bn_'+str(stage)+'_identity_2_b')(X)\n",
    "    X = Activation('relu')(X) \n",
    "\n",
    "    X = Conv2D(f3, kernel_size = (1,1), strides =(1,1),name ='res_'+str(stage)+'_identity_2_c', kernel_initializer= glorot_uniform(seed = 0))(X)\n",
    "    X = BatchNormalization(axis =3, name = 'bn_'+str(stage)+'_identity_2_c')(X)\n",
    "\n",
    "    # ADD\n",
    "    X = Add()([X,X_copy])\n",
    "    X = Activation('relu')(X)\n",
    "\n",
    "    return X"
   ]
  },
  {
   "cell_type": "code",
   "execution_count": 121,
   "metadata": {},
   "outputs": [
    {
     "name": "stdout",
     "output_type": "stream",
     "text": [
      "__________________________________________________________________________________________________\n",
      "Layer (type)                    Output Shape         Param #     Connected to                     \n",
      "==================================================================================================\n",
      "input_25 (InputLayer)           (None, 32, 32, 3)    0                                            \n",
      "__________________________________________________________________________________________________\n",
      "zero_padding2d_24 (ZeroPadding2 (None, 38, 38, 3)    0           input_25[0][0]                   \n",
      "__________________________________________________________________________________________________\n",
      "conv1 (Conv2D)                  (None, 16, 16, 64)   9472        zero_padding2d_24[0][0]          \n",
      "__________________________________________________________________________________________________\n",
      "bn_conv1 (BatchNormalization)   (None, 16, 16, 64)   256         conv1[0][0]                      \n",
      "__________________________________________________________________________________________________\n",
      "activation_386 (Activation)     (None, 16, 16, 64)   0           bn_conv1[0][0]                   \n",
      "__________________________________________________________________________________________________\n",
      "max_pooling2d_119 (MaxPooling2D (None, 7, 7, 64)     0           activation_386[0][0]             \n",
      "__________________________________________________________________________________________________\n",
      "res_2_conv_a (Conv2D)           (None, 7, 7, 64)     4160        max_pooling2d_119[0][0]          \n",
      "__________________________________________________________________________________________________\n",
      "max_pooling2d_120 (MaxPooling2D (None, 3, 3, 64)     0           res_2_conv_a[0][0]               \n",
      "__________________________________________________________________________________________________\n",
      "bn_2_conv_a (BatchNormalization (None, 3, 3, 64)     256         max_pooling2d_120[0][0]          \n",
      "__________________________________________________________________________________________________\n",
      "activation_387 (Activation)     (None, 3, 3, 64)     0           bn_2_conv_a[0][0]                \n",
      "__________________________________________________________________________________________________\n",
      "res_2_conv_b (Conv2D)           (None, 3, 3, 64)     36928       activation_387[0][0]             \n",
      "__________________________________________________________________________________________________\n",
      "bn_2_conv_b (BatchNormalization (None, 3, 3, 64)     256         res_2_conv_b[0][0]               \n",
      "__________________________________________________________________________________________________\n",
      "activation_388 (Activation)     (None, 3, 3, 64)     0           bn_2_conv_b[0][0]                \n",
      "__________________________________________________________________________________________________\n",
      "res_2_conv_copy (Conv2D)        (None, 7, 7, 256)    16640       max_pooling2d_119[0][0]          \n",
      "__________________________________________________________________________________________________\n",
      "res_2_conv_c (Conv2D)           (None, 3, 3, 256)    16640       activation_388[0][0]             \n",
      "__________________________________________________________________________________________________\n",
      "max_pooling2d_121 (MaxPooling2D (None, 3, 3, 256)    0           res_2_conv_copy[0][0]            \n",
      "__________________________________________________________________________________________________\n",
      "bn_2_conv_c (BatchNormalization (None, 3, 3, 256)    1024        res_2_conv_c[0][0]               \n",
      "__________________________________________________________________________________________________\n",
      "bn_2_conv_copy (BatchNormalizat (None, 3, 3, 256)    1024        max_pooling2d_121[0][0]          \n",
      "__________________________________________________________________________________________________\n",
      "add_120 (Add)                   (None, 3, 3, 256)    0           bn_2_conv_c[0][0]                \n",
      "                                                                 bn_2_conv_copy[0][0]             \n",
      "__________________________________________________________________________________________________\n",
      "activation_389 (Activation)     (None, 3, 3, 256)    0           add_120[0][0]                    \n",
      "__________________________________________________________________________________________________\n",
      "res_2_identity_1_a (Conv2D)     (None, 3, 3, 64)     16448       activation_389[0][0]             \n",
      "__________________________________________________________________________________________________\n",
      "bn_2_identity_1_a (BatchNormali (None, 3, 3, 64)     256         res_2_identity_1_a[0][0]         \n",
      "__________________________________________________________________________________________________\n",
      "activation_390 (Activation)     (None, 3, 3, 64)     0           bn_2_identity_1_a[0][0]          \n",
      "__________________________________________________________________________________________________\n",
      "res_2_identity_1_b (Conv2D)     (None, 3, 3, 64)     36928       activation_390[0][0]             \n",
      "__________________________________________________________________________________________________\n",
      "bn_2_identity_1_b (BatchNormali (None, 3, 3, 64)     256         res_2_identity_1_b[0][0]         \n",
      "__________________________________________________________________________________________________\n",
      "activation_391 (Activation)     (None, 3, 3, 64)     0           bn_2_identity_1_b[0][0]          \n",
      "__________________________________________________________________________________________________\n",
      "res_2_identity_1_c (Conv2D)     (None, 3, 3, 256)    16640       activation_391[0][0]             \n",
      "__________________________________________________________________________________________________\n",
      "bn_2_identity_1_c (BatchNormali (None, 3, 3, 256)    1024        res_2_identity_1_c[0][0]         \n",
      "__________________________________________________________________________________________________\n",
      "add_121 (Add)                   (None, 3, 3, 256)    0           bn_2_identity_1_c[0][0]          \n",
      "                                                                 activation_389[0][0]             \n",
      "__________________________________________________________________________________________________\n",
      "activation_392 (Activation)     (None, 3, 3, 256)    0           add_121[0][0]                    \n",
      "__________________________________________________________________________________________________\n",
      "res_2_identity_2_a (Conv2D)     (None, 3, 3, 64)     16448       activation_392[0][0]             \n",
      "__________________________________________________________________________________________________\n",
      "bn_2_identity_2_a (BatchNormali (None, 3, 3, 64)     256         res_2_identity_2_a[0][0]         \n",
      "__________________________________________________________________________________________________\n",
      "activation_393 (Activation)     (None, 3, 3, 64)     0           bn_2_identity_2_a[0][0]          \n",
      "__________________________________________________________________________________________________\n",
      "res_2_identity_2_b (Conv2D)     (None, 3, 3, 64)     36928       activation_393[0][0]             \n",
      "__________________________________________________________________________________________________\n",
      "bn_2_identity_2_b (BatchNormali (None, 3, 3, 64)     256         res_2_identity_2_b[0][0]         \n",
      "__________________________________________________________________________________________________\n",
      "activation_394 (Activation)     (None, 3, 3, 64)     0           bn_2_identity_2_b[0][0]          \n",
      "__________________________________________________________________________________________________\n",
      "res_2_identity_2_c (Conv2D)     (None, 3, 3, 256)    16640       activation_394[0][0]             \n",
      "__________________________________________________________________________________________________\n",
      "bn_2_identity_2_c (BatchNormali (None, 3, 3, 256)    1024        res_2_identity_2_c[0][0]         \n",
      "__________________________________________________________________________________________________\n",
      "add_122 (Add)                   (None, 3, 3, 256)    0           bn_2_identity_2_c[0][0]          \n",
      "                                                                 activation_392[0][0]             \n",
      "__________________________________________________________________________________________________\n",
      "activation_395 (Activation)     (None, 3, 3, 256)    0           add_122[0][0]                    \n",
      "__________________________________________________________________________________________________\n",
      "res_3_conv_a (Conv2D)           (None, 3, 3, 128)    32896       activation_395[0][0]             \n",
      "__________________________________________________________________________________________________\n",
      "max_pooling2d_122 (MaxPooling2D (None, 1, 1, 128)    0           res_3_conv_a[0][0]               \n",
      "__________________________________________________________________________________________________\n",
      "bn_3_conv_a (BatchNormalization (None, 1, 1, 128)    512         max_pooling2d_122[0][0]          \n",
      "__________________________________________________________________________________________________\n",
      "activation_396 (Activation)     (None, 1, 1, 128)    0           bn_3_conv_a[0][0]                \n",
      "__________________________________________________________________________________________________\n",
      "res_3_conv_b (Conv2D)           (None, 1, 1, 128)    147584      activation_396[0][0]             \n",
      "__________________________________________________________________________________________________\n",
      "bn_3_conv_b (BatchNormalization (None, 1, 1, 128)    512         res_3_conv_b[0][0]               \n",
      "__________________________________________________________________________________________________\n",
      "activation_397 (Activation)     (None, 1, 1, 128)    0           bn_3_conv_b[0][0]                \n",
      "__________________________________________________________________________________________________\n",
      "res_3_conv_copy (Conv2D)        (None, 3, 3, 512)    131584      activation_395[0][0]             \n",
      "__________________________________________________________________________________________________\n",
      "res_3_conv_c (Conv2D)           (None, 1, 1, 512)    66048       activation_397[0][0]             \n",
      "__________________________________________________________________________________________________\n",
      "max_pooling2d_123 (MaxPooling2D (None, 1, 1, 512)    0           res_3_conv_copy[0][0]            \n",
      "__________________________________________________________________________________________________\n",
      "bn_3_conv_c (BatchNormalization (None, 1, 1, 512)    2048        res_3_conv_c[0][0]               \n",
      "__________________________________________________________________________________________________\n",
      "bn_3_conv_copy (BatchNormalizat (None, 1, 1, 512)    2048        max_pooling2d_123[0][0]          \n",
      "__________________________________________________________________________________________________\n",
      "add_123 (Add)                   (None, 1, 1, 512)    0           bn_3_conv_c[0][0]                \n",
      "                                                                 bn_3_conv_copy[0][0]             \n",
      "__________________________________________________________________________________________________\n",
      "activation_398 (Activation)     (None, 1, 1, 512)    0           add_123[0][0]                    \n",
      "__________________________________________________________________________________________________\n",
      "res_3_identity_1_a (Conv2D)     (None, 1, 1, 128)    65664       activation_398[0][0]             \n",
      "__________________________________________________________________________________________________\n",
      "bn_3_identity_1_a (BatchNormali (None, 1, 1, 128)    512         res_3_identity_1_a[0][0]         \n",
      "__________________________________________________________________________________________________\n",
      "activation_399 (Activation)     (None, 1, 1, 128)    0           bn_3_identity_1_a[0][0]          \n",
      "__________________________________________________________________________________________________\n",
      "res_3_identity_1_b (Conv2D)     (None, 1, 1, 128)    147584      activation_399[0][0]             \n",
      "__________________________________________________________________________________________________\n",
      "bn_3_identity_1_b (BatchNormali (None, 1, 1, 128)    512         res_3_identity_1_b[0][0]         \n",
      "__________________________________________________________________________________________________\n",
      "activation_400 (Activation)     (None, 1, 1, 128)    0           bn_3_identity_1_b[0][0]          \n",
      "__________________________________________________________________________________________________\n",
      "res_3_identity_1_c (Conv2D)     (None, 1, 1, 512)    66048       activation_400[0][0]             \n",
      "__________________________________________________________________________________________________\n",
      "bn_3_identity_1_c (BatchNormali (None, 1, 1, 512)    2048        res_3_identity_1_c[0][0]         \n",
      "__________________________________________________________________________________________________\n",
      "add_124 (Add)                   (None, 1, 1, 512)    0           bn_3_identity_1_c[0][0]          \n",
      "                                                                 activation_398[0][0]             \n",
      "__________________________________________________________________________________________________\n",
      "activation_401 (Activation)     (None, 1, 1, 512)    0           add_124[0][0]                    \n",
      "__________________________________________________________________________________________________\n",
      "res_3_identity_2_a (Conv2D)     (None, 1, 1, 128)    65664       activation_401[0][0]             \n",
      "__________________________________________________________________________________________________\n",
      "bn_3_identity_2_a (BatchNormali (None, 1, 1, 128)    512         res_3_identity_2_a[0][0]         \n",
      "__________________________________________________________________________________________________\n",
      "activation_402 (Activation)     (None, 1, 1, 128)    0           bn_3_identity_2_a[0][0]          \n",
      "__________________________________________________________________________________________________\n",
      "res_3_identity_2_b (Conv2D)     (None, 1, 1, 128)    147584      activation_402[0][0]             \n",
      "__________________________________________________________________________________________________\n",
      "bn_3_identity_2_b (BatchNormali (None, 1, 1, 128)    512         res_3_identity_2_b[0][0]         \n",
      "__________________________________________________________________________________________________\n",
      "activation_403 (Activation)     (None, 1, 1, 128)    0           bn_3_identity_2_b[0][0]          \n",
      "__________________________________________________________________________________________________\n",
      "res_3_identity_2_c (Conv2D)     (None, 1, 1, 512)    66048       activation_403[0][0]             \n",
      "__________________________________________________________________________________________________\n",
      "bn_3_identity_2_c (BatchNormali (None, 1, 1, 512)    2048        res_3_identity_2_c[0][0]         \n",
      "__________________________________________________________________________________________________\n",
      "add_125 (Add)                   (None, 1, 1, 512)    0           bn_3_identity_2_c[0][0]          \n",
      "                                                                 activation_401[0][0]             \n",
      "__________________________________________________________________________________________________\n",
      "activation_404 (Activation)     (None, 1, 1, 512)    0           add_125[0][0]                    \n",
      "__________________________________________________________________________________________________\n",
      "Averagea_Pooling (AveragePoolin (None, 1, 1, 512)    0           activation_404[0][0]             \n",
      "__________________________________________________________________________________________________\n",
      "flatten_14 (Flatten)            (None, 512)          0           Averagea_Pooling[0][0]           \n",
      "__________________________________________________________________________________________________\n",
      "Dense_final (Dense)             (None, 10)           5130        flatten_14[0][0]                 \n",
      "==================================================================================================\n",
      "Total params: 1,182,858\n",
      "Trainable params: 1,174,282\n",
      "Non-trainable params: 8,576\n",
      "__________________________________________________________________________________________________\n"
     ]
    }
   ],
   "source": [
    "input_shape = (32, 32, 3)\n",
    "\n",
    "# Input tensor shape\n",
    "X_input = Input(input_shape)\n",
    "\n",
    "# Zero-padding\n",
    "X = ZeroPadding2D((3, 3))(X_input)\n",
    "\n",
    "# 1 - stage\n",
    "X = Conv2D(64, (7, 7), strides= (2, 2), name = 'conv1', kernel_initializer= glorot_uniform(seed = 0))(X)\n",
    "X = BatchNormalization(axis =3, name = 'bn_conv1')(X)\n",
    "X = Activation('relu')(X)\n",
    "X = MaxPooling2D((3, 3), strides= (2, 2))(X)\n",
    "\n",
    "# 2 - stage\n",
    "X = resblock(X, filter= [64, 64, 256], stage= 2)\n",
    "\n",
    "# 3 - stage\n",
    "X = resblock(X, filter= [128, 128, 512], stage= 3)\n",
    "\n",
    "# Average Pooling\n",
    "X = AveragePooling2D((1, 1), name = 'Averagea_Pooling')(X)\n",
    "\n",
    "# Final layer\n",
    "X = Flatten()(X)\n",
    "X = Dense(10, activation = 'softmax', name = 'Dense_final', kernel_initializer= glorot_uniform(seed=0))(X)\n",
    "\n",
    "model_ = Model( inputs= X_input, outputs = X, name = 'Custom Resnet')\n",
    "\n",
    "model_.summary()"
   ]
  },
  {
   "cell_type": "code",
   "execution_count": 122,
   "metadata": {},
   "outputs": [],
   "source": [
    "# Training The Network\n",
    "model_.compile(optimizer = \"Adam\", loss = \"categorical_crossentropy\", metrics = [\"accuracy\"])"
   ]
  },
  {
   "cell_type": "code",
   "execution_count": 123,
   "metadata": {},
   "outputs": [],
   "source": [
    "# Using early stopping to exit training if validation loss is not decreasing even after certain epochs (patience)\n",
    "earlystopping = EarlyStopping(monitor = 'val_loss', mode = 'min', verbose = 1, patience = 20)\n",
    "\n",
    "# Saving the best model with lower validation loss\n",
    "checkpointer = ModelCheckpoint(filepath = \"Cifar10.hdf5\", verbose = 1, save_best_only=True)"
   ]
  },
  {
   "cell_type": "code",
   "execution_count": 126,
   "metadata": {},
   "outputs": [],
   "source": [
    "from tensorflow.python.keras.utils import to_categorical\n",
    "\n",
    "y_train_encoded = to_categorical(y_train)\n",
    "y_val_encoded=to_categorical(y_val)\n",
    "y_test_encoded = to_categorical(y_test)"
   ]
  },
  {
   "cell_type": "code",
   "execution_count": null,
   "metadata": {},
   "outputs": [
    {
     "name": "stdout",
     "output_type": "stream",
     "text": [
      "Epoch 1/20\n"
     ]
    }
   ],
   "source": [
    "history = model_.fit(x_train,y_train_encoded,\n",
    "          validation_data=(x_val, y_val_encoded), steps_per_epoch=len(x_train) // 64,\n",
    "          epochs= 20, callbacks=[checkpointer, earlystopping])"
   ]
  },
  {
   "cell_type": "markdown",
   "metadata": {},
   "source": [
    "## Normal Conv"
   ]
  },
  {
   "cell_type": "code",
   "execution_count": 95,
   "metadata": {},
   "outputs": [],
   "source": [
    "from tensorflow.python.keras.utils import to_categorical\n",
    "\n",
    "y_train_encoded = to_categorical(y_train)\n",
    "y_val_encoded=to_categorical(y_val)\n",
    "y_test_encoded = to_categorical(y_test)\n"
   ]
  },
  {
   "cell_type": "code",
   "execution_count": 96,
   "metadata": {},
   "outputs": [],
   "source": [
    "model=tf.keras.models.Sequential([\n",
    "    Conv2D(16,(3,3),activation='relu', input_shape=(32,32,3)),\n",
    "    MaxPooling2D(2,2),\n",
    "    Conv2D(32,(3,3),activation='relu'),\n",
    "    MaxPooling2D(2,2),\n",
    "    Conv2D(48,(3,3),activation='relu'),\n",
    "    MaxPooling2D(2,2),\n",
    "    Flatten(),\n",
    "    Dense(512,activation='relu'),\n",
    "    Dense(10,activation='sigmoid')\n",
    "])"
   ]
  },
  {
   "cell_type": "markdown",
   "metadata": {},
   "source": []
  },
  {
   "cell_type": "code",
   "execution_count": 88,
   "metadata": {},
   "outputs": [
    {
     "name": "stdout",
     "output_type": "stream",
     "text": [
      "_________________________________________________________________\n",
      "Layer (type)                 Output Shape              Param #   \n",
      "=================================================================\n",
      "conv2d_8 (Conv2D)            (None, 30, 30, 16)        448       \n",
      "_________________________________________________________________\n",
      "max_pooling2d_68 (MaxPooling (None, 15, 15, 16)        0         \n",
      "_________________________________________________________________\n",
      "conv2d_9 (Conv2D)            (None, 13, 13, 32)        4640      \n",
      "_________________________________________________________________\n",
      "max_pooling2d_69 (MaxPooling (None, 6, 6, 32)          0         \n",
      "_________________________________________________________________\n",
      "conv2d_10 (Conv2D)           (None, 4, 4, 48)          13872     \n",
      "_________________________________________________________________\n",
      "max_pooling2d_70 (MaxPooling (None, 2, 2, 48)          0         \n",
      "_________________________________________________________________\n",
      "flatten_11 (Flatten)         (None, 192)               0         \n",
      "_________________________________________________________________\n",
      "dense_10 (Dense)             (None, 512)               98816     \n",
      "_________________________________________________________________\n",
      "dense_11 (Dense)             (None, 10)                5130      \n",
      "=================================================================\n",
      "Total params: 122,906\n",
      "Trainable params: 122,906\n",
      "Non-trainable params: 0\n",
      "_________________________________________________________________\n"
     ]
    }
   ],
   "source": [
    "model.summary()"
   ]
  },
  {
   "cell_type": "code",
   "execution_count": 99,
   "metadata": {},
   "outputs": [],
   "source": [
    "from tensorflow.keras.optimizers import RMSprop\n",
    "model.compile(loss='binary_crossentropy',optimizer=RMSprop(lr=.001),metrics=['accuracy'])"
   ]
  },
  {
   "cell_type": "code",
   "execution_count": 100,
   "metadata": {},
   "outputs": [],
   "source": [
    "nx_train=x_train/255\n",
    "nx_val=x_val/255\n",
    "nx_test=x_test/255"
   ]
  },
  {
   "cell_type": "code",
   "execution_count": 101,
   "metadata": {},
   "outputs": [
    {
     "name": "stdout",
     "output_type": "stream",
     "text": [
      "(4500, 32, 32, 3) (4500, 10)\n"
     ]
    }
   ],
   "source": [
    "print(nx_val.shape,y_val_encoded.shape)"
   ]
  },
  {
   "cell_type": "code",
   "execution_count": 104,
   "metadata": {},
   "outputs": [
    {
     "name": "stdout",
     "output_type": "stream",
     "text": [
      "Epoch 1/10\n",
      "4/8 [==============>...............] - ETA: 2:08 - loss: 0.5185 - acc: 0.9000"
     ]
    },
    {
     "ename": "KeyboardInterrupt",
     "evalue": "",
     "output_type": "error",
     "traceback": [
      "\u001b[0;31m---------------------------------------------------------------------------\u001b[0m",
      "\u001b[0;31mKeyboardInterrupt\u001b[0m                         Traceback (most recent call last)",
      "\u001b[0;32m<ipython-input-104-62dfd185c142>\u001b[0m in \u001b[0;36m<module>\u001b[0;34m\u001b[0m\n\u001b[0;32m----> 1\u001b[0;31m history=model.fit(nx_train,y_train_encoded,steps_per_epoch=8\n\u001b[0m\u001b[1;32m      2\u001b[0m                  \u001b[0;34m,\u001b[0m\u001b[0mepochs\u001b[0m\u001b[0;34m=\u001b[0m\u001b[0;36m10\u001b[0m\u001b[0;34m,\u001b[0m\u001b[0mverbose\u001b[0m\u001b[0;34m=\u001b[0m\u001b[0;36m1\u001b[0m\u001b[0;34m,\u001b[0m\u001b[0mvalidation_data\u001b[0m\u001b[0;34m=\u001b[0m\u001b[0;34m(\u001b[0m\u001b[0mnx_val\u001b[0m\u001b[0;34m,\u001b[0m\u001b[0my_val_encoded\u001b[0m\u001b[0;34m)\u001b[0m\u001b[0;34m,\u001b[0m\u001b[0;34m\u001b[0m\u001b[0;34m\u001b[0m\u001b[0m\n\u001b[1;32m      3\u001b[0m                  validation_steps=8)\n",
      "\u001b[0;32m/Library/Frameworks/Python.framework/Versions/3.8/lib/python3.8/site-packages/tensorflow/python/keras/engine/training.py\u001b[0m in \u001b[0;36mfit\u001b[0;34m(self, x, y, batch_size, epochs, verbose, callbacks, validation_split, validation_data, shuffle, class_weight, sample_weight, initial_epoch, steps_per_epoch, validation_steps, max_queue_size, workers, use_multiprocessing, **kwargs)\u001b[0m\n\u001b[1;32m   1624\u001b[0m           validation_steps=validation_steps)\n\u001b[1;32m   1625\u001b[0m     \u001b[0;32melse\u001b[0m\u001b[0;34m:\u001b[0m\u001b[0;34m\u001b[0m\u001b[0;34m\u001b[0m\u001b[0m\n\u001b[0;32m-> 1626\u001b[0;31m       return training_arrays.fit_loop(\n\u001b[0m\u001b[1;32m   1627\u001b[0m           \u001b[0mself\u001b[0m\u001b[0;34m,\u001b[0m \u001b[0mx\u001b[0m\u001b[0;34m,\u001b[0m \u001b[0my\u001b[0m\u001b[0;34m,\u001b[0m\u001b[0;34m\u001b[0m\u001b[0;34m\u001b[0m\u001b[0m\n\u001b[1;32m   1628\u001b[0m           \u001b[0msample_weights\u001b[0m\u001b[0;34m=\u001b[0m\u001b[0msample_weights\u001b[0m\u001b[0;34m,\u001b[0m\u001b[0;34m\u001b[0m\u001b[0;34m\u001b[0m\u001b[0m\n",
      "\u001b[0;32m/Library/Frameworks/Python.framework/Versions/3.8/lib/python3.8/site-packages/tensorflow/python/keras/engine/training_arrays.py\u001b[0m in \u001b[0;36mfit_loop\u001b[0;34m(model, inputs, targets, sample_weights, batch_size, epochs, verbose, callbacks, val_inputs, val_targets, val_sample_weights, shuffle, initial_epoch, steps_per_epoch, validation_steps)\u001b[0m\n\u001b[1;32m    152\u001b[0m         \u001b[0mcallbacks\u001b[0m\u001b[0;34m.\u001b[0m\u001b[0mon_batch_begin\u001b[0m\u001b[0;34m(\u001b[0m\u001b[0mstep_index\u001b[0m\u001b[0;34m,\u001b[0m \u001b[0mbatch_logs\u001b[0m\u001b[0;34m)\u001b[0m\u001b[0;34m\u001b[0m\u001b[0;34m\u001b[0m\u001b[0m\n\u001b[1;32m    153\u001b[0m         \u001b[0;32mtry\u001b[0m\u001b[0;34m:\u001b[0m\u001b[0;34m\u001b[0m\u001b[0;34m\u001b[0m\u001b[0m\n\u001b[0;32m--> 154\u001b[0;31m           \u001b[0mouts\u001b[0m \u001b[0;34m=\u001b[0m \u001b[0mf\u001b[0m\u001b[0;34m(\u001b[0m\u001b[0mins\u001b[0m\u001b[0;34m)\u001b[0m\u001b[0;34m\u001b[0m\u001b[0;34m\u001b[0m\u001b[0m\n\u001b[0m\u001b[1;32m    155\u001b[0m         \u001b[0;32mexcept\u001b[0m \u001b[0merrors\u001b[0m\u001b[0;34m.\u001b[0m\u001b[0mOutOfRangeError\u001b[0m\u001b[0;34m:\u001b[0m\u001b[0;34m\u001b[0m\u001b[0;34m\u001b[0m\u001b[0m\n\u001b[1;32m    156\u001b[0m           logging.warning('Your dataset iterator ran out of data; '\n",
      "\u001b[0;32m/Library/Frameworks/Python.framework/Versions/3.8/lib/python3.8/site-packages/tensorflow/python/keras/backend.py\u001b[0m in \u001b[0;36m__call__\u001b[0;34m(self, inputs)\u001b[0m\n\u001b[1;32m   2983\u001b[0m       \u001b[0mself\u001b[0m\u001b[0;34m.\u001b[0m\u001b[0m_make_callable\u001b[0m\u001b[0;34m(\u001b[0m\u001b[0mfeed_arrays\u001b[0m\u001b[0;34m,\u001b[0m \u001b[0mfeed_symbols\u001b[0m\u001b[0;34m,\u001b[0m \u001b[0msymbol_vals\u001b[0m\u001b[0;34m,\u001b[0m \u001b[0msession\u001b[0m\u001b[0;34m)\u001b[0m\u001b[0;34m\u001b[0m\u001b[0;34m\u001b[0m\u001b[0m\n\u001b[1;32m   2984\u001b[0m \u001b[0;34m\u001b[0m\u001b[0m\n\u001b[0;32m-> 2985\u001b[0;31m     fetched = self._callable_fn(*array_vals,\n\u001b[0m\u001b[1;32m   2986\u001b[0m                                 run_metadata=self.run_metadata)\n\u001b[1;32m   2987\u001b[0m     \u001b[0mself\u001b[0m\u001b[0;34m.\u001b[0m\u001b[0m_call_fetch_callbacks\u001b[0m\u001b[0;34m(\u001b[0m\u001b[0mfetched\u001b[0m\u001b[0;34m[\u001b[0m\u001b[0;34m-\u001b[0m\u001b[0mlen\u001b[0m\u001b[0;34m(\u001b[0m\u001b[0mself\u001b[0m\u001b[0;34m.\u001b[0m\u001b[0m_fetches\u001b[0m\u001b[0;34m)\u001b[0m\u001b[0;34m:\u001b[0m\u001b[0;34m]\u001b[0m\u001b[0;34m)\u001b[0m\u001b[0;34m\u001b[0m\u001b[0;34m\u001b[0m\u001b[0m\n",
      "\u001b[0;32m/Library/Frameworks/Python.framework/Versions/3.8/lib/python3.8/site-packages/tensorflow/python/client/session.py\u001b[0m in \u001b[0;36m__call__\u001b[0;34m(self, *args, **kwargs)\u001b[0m\n\u001b[1;32m   1435\u001b[0m         \u001b[0;31m# TODO(mrry): Switch to raising an exception from the SWIG wrapper.\u001b[0m\u001b[0;34m\u001b[0m\u001b[0;34m\u001b[0m\u001b[0;34m\u001b[0m\u001b[0m\n\u001b[1;32m   1436\u001b[0m         \u001b[0;32mwith\u001b[0m \u001b[0merrors\u001b[0m\u001b[0;34m.\u001b[0m\u001b[0mraise_exception_on_not_ok_status\u001b[0m\u001b[0;34m(\u001b[0m\u001b[0;34m)\u001b[0m \u001b[0;32mas\u001b[0m \u001b[0mstatus\u001b[0m\u001b[0;34m:\u001b[0m\u001b[0;34m\u001b[0m\u001b[0;34m\u001b[0m\u001b[0m\n\u001b[0;32m-> 1437\u001b[0;31m           ret = tf_session.TF_SessionRunCallable(\n\u001b[0m\u001b[1;32m   1438\u001b[0m               \u001b[0mself\u001b[0m\u001b[0;34m.\u001b[0m\u001b[0m_session\u001b[0m\u001b[0;34m.\u001b[0m\u001b[0m_session\u001b[0m\u001b[0;34m,\u001b[0m \u001b[0mself\u001b[0m\u001b[0;34m.\u001b[0m\u001b[0m_handle\u001b[0m\u001b[0;34m,\u001b[0m \u001b[0margs\u001b[0m\u001b[0;34m,\u001b[0m \u001b[0mstatus\u001b[0m\u001b[0;34m,\u001b[0m\u001b[0;34m\u001b[0m\u001b[0;34m\u001b[0m\u001b[0m\n\u001b[1;32m   1439\u001b[0m               run_metadata_ptr)\n",
      "\u001b[0;31mKeyboardInterrupt\u001b[0m: "
     ]
    }
   ],
   "source": [
    "history=model.fit(nx_train,y_train_encoded,steps_per_epoch=8\n",
    "                 ,epochs=10,verbose=1,validation_data=(nx_val,y_val_encoded),\n",
    "                 validation_steps=8)"
   ]
  },
  {
   "cell_type": "code",
   "execution_count": null,
   "metadata": {},
   "outputs": [],
   "source": []
  }
 ],
 "metadata": {
  "kernelspec": {
   "display_name": "Python 3",
   "language": "python",
   "name": "python3"
  },
  "language_info": {
   "codemirror_mode": {
    "name": "ipython",
    "version": 3
   },
   "file_extension": ".py",
   "mimetype": "text/x-python",
   "name": "python",
   "nbconvert_exporter": "python",
   "pygments_lexer": "ipython3",
   "version": "3.8.1"
  }
 },
 "nbformat": 4,
 "nbformat_minor": 4
}
